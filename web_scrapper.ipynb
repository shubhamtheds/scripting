{
  "nbformat": 4,
  "nbformat_minor": 0,
  "metadata": {
    "colab": {
      "provenance": [],
      "authorship_tag": "ABX9TyPSvBYRfMGeixwmne4dBIs4",
      "include_colab_link": true
    },
    "kernelspec": {
      "name": "python3",
      "display_name": "Python 3"
    },
    "language_info": {
      "name": "python"
    }
  },
  "cells": [
    {
      "cell_type": "markdown",
      "metadata": {
        "id": "view-in-github",
        "colab_type": "text"
      },
      "source": [
        "<a href=\"https://colab.research.google.com/github/shubhamtheds/scripting/blob/master/web_scrapper.ipynb\" target=\"_parent\"><img src=\"https://colab.research.google.com/assets/colab-badge.svg\" alt=\"Open In Colab\"/></a>"
      ]
    },
    {
      "cell_type": "code",
      "execution_count": 1,
      "metadata": {
        "colab": {
          "base_uri": "https://localhost:8080/"
        },
        "id": "hbEPB5hk-5_x",
        "outputId": "fddd6a74-f40f-498f-e75b-08d4945b1142"
      },
      "outputs": [
        {
          "output_type": "stream",
          "name": "stdout",
          "text": [
            "Requirement already satisfied: requests in /usr/local/lib/python3.10/dist-packages (2.31.0)\n",
            "Requirement already satisfied: beautifulsoup4 in /usr/local/lib/python3.10/dist-packages (4.11.2)\n",
            "Collecting markdownify\n",
            "  Downloading markdownify-0.11.6-py3-none-any.whl (16 kB)\n",
            "Requirement already satisfied: charset-normalizer<4,>=2 in /usr/local/lib/python3.10/dist-packages (from requests) (3.2.0)\n",
            "Requirement already satisfied: idna<4,>=2.5 in /usr/local/lib/python3.10/dist-packages (from requests) (3.4)\n",
            "Requirement already satisfied: urllib3<3,>=1.21.1 in /usr/local/lib/python3.10/dist-packages (from requests) (2.0.4)\n",
            "Requirement already satisfied: certifi>=2017.4.17 in /usr/local/lib/python3.10/dist-packages (from requests) (2023.7.22)\n",
            "Requirement already satisfied: soupsieve>1.2 in /usr/local/lib/python3.10/dist-packages (from beautifulsoup4) (2.5)\n",
            "Requirement already satisfied: six<2,>=1.15 in /usr/local/lib/python3.10/dist-packages (from markdownify) (1.16.0)\n",
            "Installing collected packages: markdownify\n",
            "Successfully installed markdownify-0.11.6\n"
          ]
        }
      ],
      "source": [
        "# installing required libraries\n",
        "!pip install requests beautifulsoup4 markdownify"
      ]
    },
    {
      "cell_type": "code",
      "source": [
        "import requests\n",
        "from bs4 import BeautifulSoup\n",
        "import markdownify\n",
        "import json\n",
        "\n",
        "# Function to scrape a single page\n",
        "def scrape_page(url):\n",
        "    try:\n",
        "        response = requests.get(url)\n",
        "        if response.status_code == 200:\n",
        "            soup = BeautifulSoup(response.content, 'html.parser')\n",
        "            title = soup.title.string\n",
        "            content = \"\"\n",
        "            for paragraph in soup.find_all('p'):\n",
        "                content += paragraph.text + '\\n'\n",
        "\n",
        "            # Converting HTML tables to Markdown\n",
        "            content = markdownify.markdownify(content)\n",
        "\n",
        "            return {'title': title, 'content': content}\n",
        "        else:\n",
        "            print(f\"Failed to retrieve page: {url}\")\n",
        "            return None\n",
        "    except Exception as e:\n",
        "        print(f\"An error occurred: {e}\")\n",
        "        return None\n",
        "\n",
        "# Main scraping function\n",
        "def scrape_website(base_url, num_pages):\n",
        "    scraped_data = []\n",
        "\n",
        "    for page_num in range(1, num_pages + 1):\n",
        "        page_url = f\"{base_url}/page/{page_num}\"\n",
        "        page_data = scrape_page(page_url)\n",
        "\n",
        "        if page_data:\n",
        "            scraped_data.append(page_data)\n",
        "\n",
        "    return scraped_data\n",
        "\n",
        "if __name__ == \"__main__\":\n",
        "    base_url = \"https://spicyip.com\"\n",
        "    num_pages = 5\n",
        "\n",
        "    scraped_data = scrape_website(base_url, num_pages)\n",
        "\n",
        "    # Save the data to a JSON file\n",
        "    with open(\"scraped_data.json\", \"w\") as json_file:\n",
        "        json.dump(scraped_data, json_file, indent=4)\n",
        "\n",
        "    print(\"Scraping got completed! Data saved to 'spicyip_data.json'\")"
      ],
      "metadata": {
        "colab": {
          "base_uri": "https://localhost:8080/"
        },
        "id": "L8nmqNb2-7Xq",
        "outputId": "3176ee98-2a4d-44f4-f631-659f8f381d9f"
      },
      "execution_count": 2,
      "outputs": [
        {
          "output_type": "stream",
          "name": "stdout",
          "text": [
            "Scraping got completed! Data saved to 'spicyip_data.json'\n"
          ]
        }
      ]
    },
    {
      "cell_type": "code",
      "source": [],
      "metadata": {
        "id": "-WtTQnRj_Dt7"
      },
      "execution_count": null,
      "outputs": []
    }
  ]
}